{
 "cells": [
  {
   "cell_type": "code",
   "execution_count": 2,
   "id": "e49e3098-90f2-426a-938f-4d4e27eab9ee",
   "metadata": {},
   "outputs": [],
   "source": [
    "#importing the libraries\n",
    "import pandas as pd \n",
    "import matplotlib.pyplot as plt \n",
    "import numpy as np \n",
    "from collections import Counter \n",
    "\n",
    "#Turnoff the warnings on Python\n",
    "import warnings \n",
    "warnings.filterwarnings(\"ignore\")"
   ]
  },
  {
   "cell_type": "code",
   "execution_count": 3,
   "id": "e03fa43e-3856-4276-b422-32cae1cac0b5",
   "metadata": {},
   "outputs": [
    {
     "data": {
      "text/html": [
       "<div>\n",
       "<style scoped>\n",
       "    .dataframe tbody tr th:only-of-type {\n",
       "        vertical-align: middle;\n",
       "    }\n",
       "\n",
       "    .dataframe tbody tr th {\n",
       "        vertical-align: top;\n",
       "    }\n",
       "\n",
       "    .dataframe thead th {\n",
       "        text-align: right;\n",
       "    }\n",
       "</style>\n",
       "<table border=\"1\" class=\"dataframe\">\n",
       "  <thead>\n",
       "    <tr style=\"text-align: right;\">\n",
       "      <th></th>\n",
       "      <th>ID</th>\n",
       "      <th>Name</th>\n",
       "      <th>Gender</th>\n",
       "      <th>Age</th>\n",
       "      <th>Height</th>\n",
       "      <th>Weight</th>\n",
       "      <th>Team</th>\n",
       "      <th>NOC</th>\n",
       "      <th>Games</th>\n",
       "      <th>Year</th>\n",
       "      <th>Season</th>\n",
       "      <th>City</th>\n",
       "      <th>Sport</th>\n",
       "      <th>Event</th>\n",
       "      <th>Medal</th>\n",
       "    </tr>\n",
       "  </thead>\n",
       "  <tbody>\n",
       "    <tr>\n",
       "      <th>0</th>\n",
       "      <td>1</td>\n",
       "      <td>A Dijiang</td>\n",
       "      <td>M</td>\n",
       "      <td>24.0</td>\n",
       "      <td>180.0</td>\n",
       "      <td>80.0</td>\n",
       "      <td>China</td>\n",
       "      <td>CHN</td>\n",
       "      <td>1992 Summer</td>\n",
       "      <td>1992</td>\n",
       "      <td>Summer</td>\n",
       "      <td>Barcelona</td>\n",
       "      <td>Basketball</td>\n",
       "      <td>Basketball Men's Basketball</td>\n",
       "      <td>NaN</td>\n",
       "    </tr>\n",
       "    <tr>\n",
       "      <th>1</th>\n",
       "      <td>2</td>\n",
       "      <td>A Lamusi</td>\n",
       "      <td>M</td>\n",
       "      <td>23.0</td>\n",
       "      <td>170.0</td>\n",
       "      <td>60.0</td>\n",
       "      <td>China</td>\n",
       "      <td>CHN</td>\n",
       "      <td>2012 Summer</td>\n",
       "      <td>2012</td>\n",
       "      <td>Summer</td>\n",
       "      <td>London</td>\n",
       "      <td>Judo</td>\n",
       "      <td>Judo Men's Extra-Lightweight</td>\n",
       "      <td>NaN</td>\n",
       "    </tr>\n",
       "    <tr>\n",
       "      <th>2</th>\n",
       "      <td>3</td>\n",
       "      <td>Gunnar Nielsen Aaby</td>\n",
       "      <td>M</td>\n",
       "      <td>24.0</td>\n",
       "      <td>NaN</td>\n",
       "      <td>NaN</td>\n",
       "      <td>Denmark</td>\n",
       "      <td>DEN</td>\n",
       "      <td>1920 Summer</td>\n",
       "      <td>1920</td>\n",
       "      <td>Summer</td>\n",
       "      <td>Antwerpen</td>\n",
       "      <td>Football</td>\n",
       "      <td>Football Men's Football</td>\n",
       "      <td>NaN</td>\n",
       "    </tr>\n",
       "    <tr>\n",
       "      <th>3</th>\n",
       "      <td>4</td>\n",
       "      <td>Edgar Lindenau Aabye</td>\n",
       "      <td>M</td>\n",
       "      <td>34.0</td>\n",
       "      <td>NaN</td>\n",
       "      <td>NaN</td>\n",
       "      <td>Denmark/Sweden</td>\n",
       "      <td>DEN</td>\n",
       "      <td>1900 Summer</td>\n",
       "      <td>1900</td>\n",
       "      <td>Summer</td>\n",
       "      <td>Paris</td>\n",
       "      <td>Tug-Of-War</td>\n",
       "      <td>Tug-Of-War Men's Tug-Of-War</td>\n",
       "      <td>Gold</td>\n",
       "    </tr>\n",
       "    <tr>\n",
       "      <th>4</th>\n",
       "      <td>5</td>\n",
       "      <td>Christine Jacoba Aaftink</td>\n",
       "      <td>F</td>\n",
       "      <td>21.0</td>\n",
       "      <td>185.0</td>\n",
       "      <td>82.0</td>\n",
       "      <td>Netherlands</td>\n",
       "      <td>NED</td>\n",
       "      <td>1988 Winter</td>\n",
       "      <td>1988</td>\n",
       "      <td>Winter</td>\n",
       "      <td>Calgary</td>\n",
       "      <td>Speed Skating</td>\n",
       "      <td>Speed Skating Women's 500 metres</td>\n",
       "      <td>NaN</td>\n",
       "    </tr>\n",
       "  </tbody>\n",
       "</table>\n",
       "</div>"
      ],
      "text/plain": [
       "   ID                      Name Gender   Age  Height  Weight            Team  \\\n",
       "0   1                 A Dijiang      M  24.0   180.0    80.0           China   \n",
       "1   2                  A Lamusi      M  23.0   170.0    60.0           China   \n",
       "2   3       Gunnar Nielsen Aaby      M  24.0     NaN     NaN         Denmark   \n",
       "3   4      Edgar Lindenau Aabye      M  34.0     NaN     NaN  Denmark/Sweden   \n",
       "4   5  Christine Jacoba Aaftink      F  21.0   185.0    82.0     Netherlands   \n",
       "\n",
       "   NOC        Games  Year  Season       City          Sport  \\\n",
       "0  CHN  1992 Summer  1992  Summer  Barcelona     Basketball   \n",
       "1  CHN  2012 Summer  2012  Summer     London           Judo   \n",
       "2  DEN  1920 Summer  1920  Summer  Antwerpen       Football   \n",
       "3  DEN  1900 Summer  1900  Summer      Paris     Tug-Of-War   \n",
       "4  NED  1988 Winter  1988  Winter    Calgary  Speed Skating   \n",
       "\n",
       "                              Event Medal  \n",
       "0       Basketball Men's Basketball   NaN  \n",
       "1      Judo Men's Extra-Lightweight   NaN  \n",
       "2           Football Men's Football   NaN  \n",
       "3       Tug-Of-War Men's Tug-Of-War  Gold  \n",
       "4  Speed Skating Women's 500 metres   NaN  "
      ]
     },
     "execution_count": 3,
     "metadata": {},
     "output_type": "execute_result"
    }
   ],
   "source": [
    "#importing the data\n",
    "veri = pd.read_csv(\"olympics.csv\")\n",
    "veri.head()"
   ]
  },
  {
   "cell_type": "code",
   "execution_count": 5,
   "id": "6f0dff0e-0a49-4da1-8849-562c9a68507d",
   "metadata": {},
   "outputs": [
    {
     "name": "stdout",
     "output_type": "stream",
     "text": [
      "<class 'pandas.core.frame.DataFrame'>\n",
      "RangeIndex: 271116 entries, 0 to 271115\n",
      "Data columns (total 15 columns):\n",
      " #   Column  Non-Null Count   Dtype  \n",
      "---  ------  --------------   -----  \n",
      " 0   ID      271116 non-null  int64  \n",
      " 1   Name    271116 non-null  object \n",
      " 2   Gender  271116 non-null  object \n",
      " 3   Age     261642 non-null  float64\n",
      " 4   Height  210945 non-null  float64\n",
      " 5   Weight  208241 non-null  float64\n",
      " 6   Team    271116 non-null  object \n",
      " 7   NOC     271116 non-null  object \n",
      " 8   Games   271116 non-null  object \n",
      " 9   Year    271116 non-null  int64  \n",
      " 10  Season  271116 non-null  object \n",
      " 11  City    271116 non-null  object \n",
      " 12  Sport   271116 non-null  object \n",
      " 13  Event   271116 non-null  object \n",
      " 14  Medal   39783 non-null   object \n",
      "dtypes: float64(3), int64(2), object(10)\n",
      "memory usage: 31.0+ MB\n"
     ]
    }
   ],
   "source": [
    "veri.info()"
   ]
  },
  {
   "cell_type": "code",
   "execution_count": 6,
   "id": "db2dad66-f33c-440b-a15b-fe5a7c07d558",
   "metadata": {},
   "outputs": [
    {
     "data": {
      "text/plain": [
       "Index(['ID', 'Name', 'Gender', 'Age', 'Height', 'Weight', 'Team', 'NOC',\n",
       "       'Games', 'Year', 'Season', 'City', 'Sport', 'Event', 'Medal'],\n",
       "      dtype='object')"
      ]
     },
     "execution_count": 6,
     "metadata": {},
     "output_type": "execute_result"
    }
   ],
   "source": [
    "veri.columns\n"
   ]
  },
  {
   "cell_type": "code",
   "execution_count": 7,
   "id": "8820cb90-c976-4173-8c77-b421c409fef0",
   "metadata": {},
   "outputs": [
    {
     "data": {
      "text/html": [
       "<div>\n",
       "<style scoped>\n",
       "    .dataframe tbody tr th:only-of-type {\n",
       "        vertical-align: middle;\n",
       "    }\n",
       "\n",
       "    .dataframe tbody tr th {\n",
       "        vertical-align: top;\n",
       "    }\n",
       "\n",
       "    .dataframe thead th {\n",
       "        text-align: right;\n",
       "    }\n",
       "</style>\n",
       "<table border=\"1\" class=\"dataframe\">\n",
       "  <thead>\n",
       "    <tr style=\"text-align: right;\">\n",
       "      <th></th>\n",
       "      <th>id</th>\n",
       "      <th>isim</th>\n",
       "      <th>cinsiyet</th>\n",
       "      <th>yas</th>\n",
       "      <th>boy</th>\n",
       "      <th>kilo</th>\n",
       "      <th>takim</th>\n",
       "      <th>uok</th>\n",
       "      <th>oyunlar</th>\n",
       "      <th>yil</th>\n",
       "      <th>sezon</th>\n",
       "      <th>sehir</th>\n",
       "      <th>spor</th>\n",
       "      <th>etkinlik</th>\n",
       "      <th>madalya</th>\n",
       "    </tr>\n",
       "  </thead>\n",
       "  <tbody>\n",
       "    <tr>\n",
       "      <th>0</th>\n",
       "      <td>1</td>\n",
       "      <td>A Dijiang</td>\n",
       "      <td>M</td>\n",
       "      <td>24.0</td>\n",
       "      <td>180.0</td>\n",
       "      <td>80.0</td>\n",
       "      <td>China</td>\n",
       "      <td>CHN</td>\n",
       "      <td>1992 Summer</td>\n",
       "      <td>1992</td>\n",
       "      <td>Summer</td>\n",
       "      <td>Barcelona</td>\n",
       "      <td>Basketball</td>\n",
       "      <td>Basketball Men's Basketball</td>\n",
       "      <td>NaN</td>\n",
       "    </tr>\n",
       "    <tr>\n",
       "      <th>1</th>\n",
       "      <td>2</td>\n",
       "      <td>A Lamusi</td>\n",
       "      <td>M</td>\n",
       "      <td>23.0</td>\n",
       "      <td>170.0</td>\n",
       "      <td>60.0</td>\n",
       "      <td>China</td>\n",
       "      <td>CHN</td>\n",
       "      <td>2012 Summer</td>\n",
       "      <td>2012</td>\n",
       "      <td>Summer</td>\n",
       "      <td>London</td>\n",
       "      <td>Judo</td>\n",
       "      <td>Judo Men's Extra-Lightweight</td>\n",
       "      <td>NaN</td>\n",
       "    </tr>\n",
       "  </tbody>\n",
       "</table>\n",
       "</div>"
      ],
      "text/plain": [
       "   id       isim cinsiyet   yas    boy  kilo  takim  uok      oyunlar   yil  \\\n",
       "0   1  A Dijiang        M  24.0  180.0  80.0  China  CHN  1992 Summer  1992   \n",
       "1   2   A Lamusi        M  23.0  170.0  60.0  China  CHN  2012 Summer  2012   \n",
       "\n",
       "    sezon      sehir        spor                      etkinlik madalya  \n",
       "0  Summer  Barcelona  Basketball   Basketball Men's Basketball     NaN  \n",
       "1  Summer     London        Judo  Judo Men's Extra-Lightweight     NaN  "
      ]
     },
     "execution_count": 7,
     "metadata": {},
     "output_type": "execute_result"
    }
   ],
   "source": [
    "#changing the column names to Turkish\n",
    "veri.rename(columns={'ID' : 'id',\n",
    "                    'Name' : 'isim',\n",
    "                    'Gender' : 'cinsiyet',\n",
    "                    'Age' : 'yas',\n",
    "                    'Height' : 'boy',\n",
    "                    'Weight' : 'kilo',\n",
    "                    'Team' : 'takim',\n",
    "                    'NOC' : 'uok',\n",
    "                    'Games' : 'oyunlar',\n",
    "                    'Year' : 'yil',\n",
    "                    'Season' : 'sezon',\n",
    "                    'City' : 'sehir',\n",
    "                    'Sport' : 'spor',\n",
    "                    'Event' : 'etkinlik',\n",
    "                    'Medal' : 'madalya'}, inplace = True)\n",
    "veri.head(2)"
   ]
  },
  {
   "cell_type": "code",
   "execution_count": 8,
   "id": "45475310-3d17-402e-bfe6-2f8f0d5586e3",
   "metadata": {},
   "outputs": [
    {
     "data": {
      "text/html": [
       "<div>\n",
       "<style scoped>\n",
       "    .dataframe tbody tr th:only-of-type {\n",
       "        vertical-align: middle;\n",
       "    }\n",
       "\n",
       "    .dataframe tbody tr th {\n",
       "        vertical-align: top;\n",
       "    }\n",
       "\n",
       "    .dataframe thead th {\n",
       "        text-align: right;\n",
       "    }\n",
       "</style>\n",
       "<table border=\"1\" class=\"dataframe\">\n",
       "  <thead>\n",
       "    <tr style=\"text-align: right;\">\n",
       "      <th></th>\n",
       "      <th>isim</th>\n",
       "      <th>cinsiyet</th>\n",
       "      <th>yas</th>\n",
       "      <th>boy</th>\n",
       "      <th>kilo</th>\n",
       "      <th>takim</th>\n",
       "      <th>uok</th>\n",
       "      <th>yil</th>\n",
       "      <th>sezon</th>\n",
       "      <th>sehir</th>\n",
       "      <th>spor</th>\n",
       "      <th>etkinlik</th>\n",
       "      <th>madalya</th>\n",
       "    </tr>\n",
       "  </thead>\n",
       "  <tbody>\n",
       "    <tr>\n",
       "      <th>0</th>\n",
       "      <td>A Dijiang</td>\n",
       "      <td>M</td>\n",
       "      <td>24.0</td>\n",
       "      <td>180.0</td>\n",
       "      <td>80.0</td>\n",
       "      <td>China</td>\n",
       "      <td>CHN</td>\n",
       "      <td>1992</td>\n",
       "      <td>Summer</td>\n",
       "      <td>Barcelona</td>\n",
       "      <td>Basketball</td>\n",
       "      <td>Basketball Men's Basketball</td>\n",
       "      <td>NaN</td>\n",
       "    </tr>\n",
       "    <tr>\n",
       "      <th>1</th>\n",
       "      <td>A Lamusi</td>\n",
       "      <td>M</td>\n",
       "      <td>23.0</td>\n",
       "      <td>170.0</td>\n",
       "      <td>60.0</td>\n",
       "      <td>China</td>\n",
       "      <td>CHN</td>\n",
       "      <td>2012</td>\n",
       "      <td>Summer</td>\n",
       "      <td>London</td>\n",
       "      <td>Judo</td>\n",
       "      <td>Judo Men's Extra-Lightweight</td>\n",
       "      <td>NaN</td>\n",
       "    </tr>\n",
       "  </tbody>\n",
       "</table>\n",
       "</div>"
      ],
      "text/plain": [
       "        isim cinsiyet   yas    boy  kilo  takim  uok   yil   sezon      sehir  \\\n",
       "0  A Dijiang        M  24.0  180.0  80.0  China  CHN  1992  Summer  Barcelona   \n",
       "1   A Lamusi        M  23.0  170.0  60.0  China  CHN  2012  Summer     London   \n",
       "\n",
       "         spor                      etkinlik madalya  \n",
       "0  Basketball   Basketball Men's Basketball     NaN  \n",
       "1        Judo  Judo Men's Extra-Lightweight     NaN  "
      ]
     },
     "execution_count": 8,
     "metadata": {},
     "output_type": "execute_result"
    }
   ],
   "source": [
    "#removing the id and oyunlar columns using drop function \n",
    "veri = veri.drop([\"id\",\"oyunlar\"], axis = 1) #axis = 1 means column\n",
    "veri.head(2)"
   ]
  },
  {
   "cell_type": "code",
   "execution_count": 11,
   "id": "82c7fe0d-8633-4226-9cbf-59ae214641bb",
   "metadata": {},
   "outputs": [
    {
     "name": "stdout",
     "output_type": "stream",
     "text": [
      "Eşsiz etkinlik sayısı: 765\n"
     ]
    },
    {
     "data": {
      "text/plain": [
       "array([\"Basketball Men's Basketball\", \"Judo Men's Extra-Lightweight\",\n",
       "       \"Football Men's Football\", \"Tug-Of-War Men's Tug-Of-War\",\n",
       "       \"Speed Skating Women's 500 metres\",\n",
       "       \"Speed Skating Women's 1,000 metres\",\n",
       "       \"Cross Country Skiing Men's 10 kilometres\",\n",
       "       \"Cross Country Skiing Men's 50 kilometres\",\n",
       "       \"Cross Country Skiing Men's 10/15 kilometres Pursuit\",\n",
       "       \"Cross Country Skiing Men's 4 x 10 kilometres Relay\"], dtype=object)"
      ]
     },
     "execution_count": 11,
     "metadata": {},
     "output_type": "execute_result"
    }
   ],
   "source": [
    "#printing the unique events count\n",
    "essiz_etkinlik = pd.unique(veri.etkinlik)\n",
    "print(\"Eşsiz etkinlik sayısı: {}\" .format(len(essiz_etkinlik)))\n",
    "essiz_etkinlik[:10]"
   ]
  },
  {
   "cell_type": "code",
   "execution_count": 13,
   "id": "f8733172-bee4-49e5-b71c-804c12a050f9",
   "metadata": {},
   "outputs": [
    {
     "name": "stdout",
     "output_type": "stream",
     "text": [
      "<class 'pandas.core.frame.DataFrame'>\n",
      "RangeIndex: 271116 entries, 0 to 271115\n",
      "Data columns (total 13 columns):\n",
      " #   Column    Non-Null Count   Dtype  \n",
      "---  ------    --------------   -----  \n",
      " 0   isim      271116 non-null  object \n",
      " 1   cinsiyet  271116 non-null  object \n",
      " 2   yas       261642 non-null  float64\n",
      " 3   boy       271116 non-null  float64\n",
      " 4   kilo      271116 non-null  float64\n",
      " 5   takim     271116 non-null  object \n",
      " 6   uok       271116 non-null  object \n",
      " 7   yil       271116 non-null  int64  \n",
      " 8   sezon     271116 non-null  object \n",
      " 9   sehir     271116 non-null  object \n",
      " 10  spor      271116 non-null  object \n",
      " 11  etkinlik  271116 non-null  object \n",
      " 12  madalya   39783 non-null   object \n",
      "dtypes: float64(3), int64(1), object(9)\n",
      "memory usage: 26.9+ MB\n"
     ]
    }
   ],
   "source": [
    "#iteratively traverse each event \n",
    "#calculate height and weight averages for the event\n",
    "#equalize the missing height and weight values of the events with the average height and weight values for the event. \n",
    "veri_gecici = veri.copy() #creating a copy of the data to avoid corrupting the real data\n",
    "boy_kilo_liste = [\"boy\", \"kilo\"]\n",
    "for e in essiz_etkinlik: #traverse the list \n",
    "    #creating the event filter\n",
    "    etkinlik_filtre = veri_gecici.etkinlik == e \n",
    "    #filtering the data by event\n",
    "    veri_filtreli = veri_gecici[etkinlik_filtre]\n",
    "\n",
    "    #calculate the average values of height and weight for the event\n",
    "    for s in boy_kilo_liste:\n",
    "        ortalama = np.round(np.mean(veri_filtreli[s]),2)\n",
    "        if  ~np.isnan(ortalama): #if there is an average value for event. isnan = is not  a number.  ~ = not \n",
    "            veri_filtreli[s] = veri_filtreli[s].fillna(ortalama) #fill the missing values with the average value\n",
    "        else: #if there isn't an average value for the event\n",
    "            tum_veri_ortalamasi = np.round(np.mean(veri[s]),2) #calculate the average value for all of the data \n",
    "            veri_filtreli[s] = veri_filtreli[s].fillna(tum_veri_ortalamasi) #fill the values with the average value for all data\n",
    "#Equalize the temporary data (veri_gecici) with the data where missing values have been filled in, for the event.\n",
    "    veri_gecici[etkinlik_filtre] = veri_filtreli\n",
    "#Equalize the temporary data, where missing values have been filled, with the real data.\n",
    "veri = veri_gecici.copy()\n",
    "veri.info() #check the missing value counts in height and weight columns\n"
   ]
  },
  {
   "cell_type": "code",
   "execution_count": 14,
   "id": "a33890b5-072b-472c-bc9e-5882c18d1191",
   "metadata": {},
   "outputs": [
    {
     "name": "stdout",
     "output_type": "stream",
     "text": [
      "Yaş Ortalaması: 25.56\n",
      "<class 'pandas.core.frame.DataFrame'>\n",
      "RangeIndex: 271116 entries, 0 to 271115\n",
      "Data columns (total 13 columns):\n",
      " #   Column    Non-Null Count   Dtype  \n",
      "---  ------    --------------   -----  \n",
      " 0   isim      271116 non-null  object \n",
      " 1   cinsiyet  271116 non-null  object \n",
      " 2   yas       271116 non-null  float64\n",
      " 3   boy       271116 non-null  float64\n",
      " 4   kilo      271116 non-null  float64\n",
      " 5   takim     271116 non-null  object \n",
      " 6   uok       271116 non-null  object \n",
      " 7   yil       271116 non-null  int64  \n",
      " 8   sezon     271116 non-null  object \n",
      " 9   sehir     271116 non-null  object \n",
      " 10  spor      271116 non-null  object \n",
      " 11  etkinlik  271116 non-null  object \n",
      " 12  madalya   39783 non-null   object \n",
      "dtypes: float64(3), int64(1), object(9)\n",
      "memory usage: 26.9+ MB\n"
     ]
    }
   ],
   "source": [
    "#find the empty values for age \n",
    "yas_ortalamasi = np.round(np.mean(veri.yas),2)\n",
    "print(\"Yaş Ortalaması: {}\".format(yas_ortalamasi))\n",
    "veri[\"yas\"] = veri[\"yas\"].fillna(yas_ortalamasi)\n",
    "veri.info()"
   ]
  },
  {
   "cell_type": "code",
   "execution_count": 15,
   "id": "e03a5cf5-6595-4061-bb11-63e5bdc9fa7b",
   "metadata": {},
   "outputs": [
    {
     "data": {
      "text/plain": [
       "231333"
      ]
     },
     "execution_count": 15,
     "metadata": {},
     "output_type": "execute_result"
    }
   ],
   "source": [
    "#numbers of the athletes without medals\n",
    "madalya_degiskeni = veri[\"madalya\"]\n",
    "pd.isnull(madalya_degiskeni).sum()"
   ]
  },
  {
   "cell_type": "code",
   "execution_count": 16,
   "id": "4f5a2ecc-15bd-400d-a311-890b1cf7de89",
   "metadata": {},
   "outputs": [],
   "source": [
    "madalya_degiskeni_filtresi = ~pd.isnull(madalya_degiskeni) #atheletes with medals"
   ]
  },
  {
   "cell_type": "code",
   "execution_count": 17,
   "id": "f0cbdeb6-8cb3-4cf4-a0da-c5fe114c3c76",
   "metadata": {},
   "outputs": [
    {
     "data": {
      "text/html": [
       "<div>\n",
       "<style scoped>\n",
       "    .dataframe tbody tr th:only-of-type {\n",
       "        vertical-align: middle;\n",
       "    }\n",
       "\n",
       "    .dataframe tbody tr th {\n",
       "        vertical-align: top;\n",
       "    }\n",
       "\n",
       "    .dataframe thead th {\n",
       "        text-align: right;\n",
       "    }\n",
       "</style>\n",
       "<table border=\"1\" class=\"dataframe\">\n",
       "  <thead>\n",
       "    <tr style=\"text-align: right;\">\n",
       "      <th></th>\n",
       "      <th>isim</th>\n",
       "      <th>cinsiyet</th>\n",
       "      <th>yas</th>\n",
       "      <th>boy</th>\n",
       "      <th>kilo</th>\n",
       "      <th>takim</th>\n",
       "      <th>uok</th>\n",
       "      <th>yil</th>\n",
       "      <th>sezon</th>\n",
       "      <th>sehir</th>\n",
       "      <th>spor</th>\n",
       "      <th>etkinlik</th>\n",
       "      <th>madalya</th>\n",
       "    </tr>\n",
       "  </thead>\n",
       "  <tbody>\n",
       "    <tr>\n",
       "      <th>3</th>\n",
       "      <td>Edgar Lindenau Aabye</td>\n",
       "      <td>M</td>\n",
       "      <td>34.0</td>\n",
       "      <td>182.48</td>\n",
       "      <td>95.62</td>\n",
       "      <td>Denmark/Sweden</td>\n",
       "      <td>DEN</td>\n",
       "      <td>1900</td>\n",
       "      <td>Summer</td>\n",
       "      <td>Paris</td>\n",
       "      <td>Tug-Of-War</td>\n",
       "      <td>Tug-Of-War Men's Tug-Of-War</td>\n",
       "      <td>Gold</td>\n",
       "    </tr>\n",
       "    <tr>\n",
       "      <th>37</th>\n",
       "      <td>Arvo Ossian Aaltonen</td>\n",
       "      <td>M</td>\n",
       "      <td>30.0</td>\n",
       "      <td>182.01</td>\n",
       "      <td>76.69</td>\n",
       "      <td>Finland</td>\n",
       "      <td>FIN</td>\n",
       "      <td>1920</td>\n",
       "      <td>Summer</td>\n",
       "      <td>Antwerpen</td>\n",
       "      <td>Swimming</td>\n",
       "      <td>Swimming Men's 200 metres Breaststroke</td>\n",
       "      <td>Bronze</td>\n",
       "    </tr>\n",
       "    <tr>\n",
       "      <th>38</th>\n",
       "      <td>Arvo Ossian Aaltonen</td>\n",
       "      <td>M</td>\n",
       "      <td>30.0</td>\n",
       "      <td>177.00</td>\n",
       "      <td>75.00</td>\n",
       "      <td>Finland</td>\n",
       "      <td>FIN</td>\n",
       "      <td>1920</td>\n",
       "      <td>Summer</td>\n",
       "      <td>Antwerpen</td>\n",
       "      <td>Swimming</td>\n",
       "      <td>Swimming Men's 400 metres Breaststroke</td>\n",
       "      <td>Bronze</td>\n",
       "    </tr>\n",
       "    <tr>\n",
       "      <th>40</th>\n",
       "      <td>Juhamatti Tapio Aaltonen</td>\n",
       "      <td>M</td>\n",
       "      <td>28.0</td>\n",
       "      <td>184.00</td>\n",
       "      <td>85.00</td>\n",
       "      <td>Finland</td>\n",
       "      <td>FIN</td>\n",
       "      <td>2014</td>\n",
       "      <td>Winter</td>\n",
       "      <td>Sochi</td>\n",
       "      <td>Ice Hockey</td>\n",
       "      <td>Ice Hockey Men's Ice Hockey</td>\n",
       "      <td>Bronze</td>\n",
       "    </tr>\n",
       "    <tr>\n",
       "      <th>41</th>\n",
       "      <td>Paavo Johannes Aaltonen</td>\n",
       "      <td>M</td>\n",
       "      <td>28.0</td>\n",
       "      <td>175.00</td>\n",
       "      <td>64.00</td>\n",
       "      <td>Finland</td>\n",
       "      <td>FIN</td>\n",
       "      <td>1948</td>\n",
       "      <td>Summer</td>\n",
       "      <td>London</td>\n",
       "      <td>Gymnastics</td>\n",
       "      <td>Gymnastics Men's Individual All-Around</td>\n",
       "      <td>Bronze</td>\n",
       "    </tr>\n",
       "  </tbody>\n",
       "</table>\n",
       "</div>"
      ],
      "text/plain": [
       "                        isim cinsiyet   yas     boy   kilo           takim  \\\n",
       "3       Edgar Lindenau Aabye        M  34.0  182.48  95.62  Denmark/Sweden   \n",
       "37      Arvo Ossian Aaltonen        M  30.0  182.01  76.69         Finland   \n",
       "38      Arvo Ossian Aaltonen        M  30.0  177.00  75.00         Finland   \n",
       "40  Juhamatti Tapio Aaltonen        M  28.0  184.00  85.00         Finland   \n",
       "41   Paavo Johannes Aaltonen        M  28.0  175.00  64.00         Finland   \n",
       "\n",
       "    uok   yil   sezon      sehir        spor  \\\n",
       "3   DEN  1900  Summer      Paris  Tug-Of-War   \n",
       "37  FIN  1920  Summer  Antwerpen    Swimming   \n",
       "38  FIN  1920  Summer  Antwerpen    Swimming   \n",
       "40  FIN  2014  Winter      Sochi  Ice Hockey   \n",
       "41  FIN  1948  Summer     London  Gymnastics   \n",
       "\n",
       "                                  etkinlik madalya  \n",
       "3              Tug-Of-War Men's Tug-Of-War    Gold  \n",
       "37  Swimming Men's 200 metres Breaststroke  Bronze  \n",
       "38  Swimming Men's 400 metres Breaststroke  Bronze  \n",
       "40             Ice Hockey Men's Ice Hockey  Bronze  \n",
       "41  Gymnastics Men's Individual All-Around  Bronze  "
      ]
     },
     "execution_count": 17,
     "metadata": {},
     "output_type": "execute_result"
    }
   ],
   "source": [
    "veri = veri[madalya_degiskeni_filtresi]\n",
    "veri.head(5) #now it is only the data of athletes with medal"
   ]
  },
  {
   "cell_type": "code",
   "execution_count": 18,
   "id": "63f06010-dfb3-4c0e-87c2-ad8263aae17f",
   "metadata": {},
   "outputs": [
    {
     "name": "stdout",
     "output_type": "stream",
     "text": [
      "<class 'pandas.core.frame.DataFrame'>\n",
      "Index: 39783 entries, 3 to 271103\n",
      "Data columns (total 13 columns):\n",
      " #   Column    Non-Null Count  Dtype  \n",
      "---  ------    --------------  -----  \n",
      " 0   isim      39783 non-null  object \n",
      " 1   cinsiyet  39783 non-null  object \n",
      " 2   yas       39783 non-null  float64\n",
      " 3   boy       39783 non-null  float64\n",
      " 4   kilo      39783 non-null  float64\n",
      " 5   takim     39783 non-null  object \n",
      " 6   uok       39783 non-null  object \n",
      " 7   yil       39783 non-null  int64  \n",
      " 8   sezon     39783 non-null  object \n",
      " 9   sehir     39783 non-null  object \n",
      " 10  spor      39783 non-null  object \n",
      " 11  etkinlik  39783 non-null  object \n",
      " 12  madalya   39783 non-null  object \n",
      "dtypes: float64(3), int64(1), object(9)\n",
      "memory usage: 4.2+ MB\n"
     ]
    }
   ],
   "source": [
    "veri.info()"
   ]
  },
  {
   "cell_type": "code",
   "execution_count": 19,
   "id": "de191d62-f91f-4e98-8739-af9ee205cf0e",
   "metadata": {},
   "outputs": [],
   "source": [
    "#save the data to use it later\n",
    "veri.to_csv(\"olympics_clean.csv\", index = False)"
   ]
  },
  {
   "cell_type": "markdown",
   "id": "b6f09742-2cbc-4664-8a0b-81adcb4f1bed",
   "metadata": {},
   "source": [
    "There are 4 numerical variables inside the data :\n",
    "age, height, weight, year\n",
    "to view and interpret the numerical variables ı will use data frequency and basic statistics knowledge\n",
    "ı will examine data frequency informations using histogram chart\n",
    "to interpret basic statistics informations, ı will use box plot"
   ]
  },
  {
   "cell_type": "code",
   "execution_count": 21,
   "id": "bfd6ad46-facd-4f63-a379-116a152b4865",
   "metadata": {},
   "outputs": [],
   "source": [
    "#function for drawing histogram charts\n",
    "def plotHistogram(degisken):\n",
    "    \"\"\"\n",
    "    Input : varible/column name\n",
    "    Output: histogram of the variable \n",
    "    \"\"\"\n",
    "    plt.figure()\n",
    "    plt.hist(veri[degisken], bins = 85, color = \"orange\")\n",
    "    plt.xlabel(degisken)\n",
    "    plt.ylabel(\"Frekans\")\n",
    "    plt.title(\"Veri Sıklığı - {}\".format(degisken))\n",
    "    plt.show()"
   ]
  },
  {
   "cell_type": "code",
   "execution_count": 23,
   "id": "958352e4-548e-4d0b-840f-d86f57394052",
   "metadata": {},
   "outputs": [
    {
     "data": {
      "image/png": "[encoded data removed]",
      "text/plain": [
       "<Figure size 640x480 with 1 Axes>"
      ]
     },
     "metadata": {},
     "output_type": "display_data"
    },
    {
     "data": {
      "image/png": "[encoded data removed]",
      "text/plain": [
       "<Figure size 640x480 with 1 Axes>"
      ]
     },
     "metadata": {},
     "output_type": "display_data"
    },
    {
     "data": {
      "image/png": "[encoded data removed]",
      "text/plain": [
       "<Figure size 640x480 with 1 Axes>"
      ]
     },
     "metadata": {},
     "output_type": "display_data"
    },
    {
     "data": {
      "image/png": "[encoded data removed]",
      "text/plain": [
       "<Figure size 640x480 with 1 Axes>"
      ]
     },
     "metadata": {},
     "output_type": "display_data"
    }
   ],
   "source": [
    "#draw the histograms for all of the numerical variables\n",
    "sayısal_degisken = [\"yas\", \"boy\", \"kilo\", \"yil\"]\n",
    "for i in sayısal_degisken:\n",
    "    plotHistogram(i)"
   ]
  },
  {
   "cell_type": "markdown",
   "id": "f743bbd6-0289-4a8a-a09c-0655f58936f1",
   "metadata": {},
   "source": [
    "As expected on the age, weight and height columns there is a distribution close to normal distribution\n",
    "The first noticable thing on the year column is , there were not any olympics in the world war 1 and 2. \n",
    "And there were more olympic games in the last 20 years\n",
    "Also the number of medals given in summer olympics were higher compared to winter olympics"
   ]
  },
  {
   "cell_type": "code",
   "execution_count": 24,
   "id": "eb39592f-2629-4176-90a5-0fbbac1dd687",
   "metadata": {},
   "outputs": [
    {
     "data": {
      "text/html": [
       "<div>\n",
       "<style scoped>\n",
       "    .dataframe tbody tr th:only-of-type {\n",
       "        vertical-align: middle;\n",
       "    }\n",
       "\n",
       "    .dataframe tbody tr th {\n",
       "        vertical-align: top;\n",
       "    }\n",
       "\n",
       "    .dataframe thead th {\n",
       "        text-align: right;\n",
       "    }\n",
       "</style>\n",
       "<table border=\"1\" class=\"dataframe\">\n",
       "  <thead>\n",
       "    <tr style=\"text-align: right;\">\n",
       "      <th></th>\n",
       "      <th>yas</th>\n",
       "      <th>boy</th>\n",
       "      <th>kilo</th>\n",
       "      <th>yil</th>\n",
       "    </tr>\n",
       "  </thead>\n",
       "  <tbody>\n",
       "    <tr>\n",
       "      <th>count</th>\n",
       "      <td>39783.000000</td>\n",
       "      <td>39783.000000</td>\n",
       "      <td>39783.000000</td>\n",
       "      <td>39783.000000</td>\n",
       "    </tr>\n",
       "    <tr>\n",
       "      <th>mean</th>\n",
       "      <td>25.918456</td>\n",
       "      <td>177.336690</td>\n",
       "      <td>73.738320</td>\n",
       "      <td>1973.943845</td>\n",
       "    </tr>\n",
       "    <tr>\n",
       "      <th>std</th>\n",
       "      <td>5.859569</td>\n",
       "      <td>10.170124</td>\n",
       "      <td>13.979041</td>\n",
       "      <td>33.822857</td>\n",
       "    </tr>\n",
       "    <tr>\n",
       "      <th>min</th>\n",
       "      <td>10.000000</td>\n",
       "      <td>136.000000</td>\n",
       "      <td>28.000000</td>\n",
       "      <td>1896.000000</td>\n",
       "    </tr>\n",
       "    <tr>\n",
       "      <th>25%</th>\n",
       "      <td>22.000000</td>\n",
       "      <td>170.000000</td>\n",
       "      <td>64.000000</td>\n",
       "      <td>1952.000000</td>\n",
       "    </tr>\n",
       "    <tr>\n",
       "      <th>50%</th>\n",
       "      <td>25.000000</td>\n",
       "      <td>177.480000</td>\n",
       "      <td>73.000000</td>\n",
       "      <td>1984.000000</td>\n",
       "    </tr>\n",
       "    <tr>\n",
       "      <th>75%</th>\n",
       "      <td>29.000000</td>\n",
       "      <td>184.000000</td>\n",
       "      <td>82.000000</td>\n",
       "      <td>2002.000000</td>\n",
       "    </tr>\n",
       "    <tr>\n",
       "      <th>max</th>\n",
       "      <td>73.000000</td>\n",
       "      <td>223.000000</td>\n",
       "      <td>182.000000</td>\n",
       "      <td>2016.000000</td>\n",
       "    </tr>\n",
       "  </tbody>\n",
       "</table>\n",
       "</div>"
      ],
      "text/plain": [
       "                yas           boy          kilo           yil\n",
       "count  39783.000000  39783.000000  39783.000000  39783.000000\n",
       "mean      25.918456    177.336690     73.738320   1973.943845\n",
       "std        5.859569     10.170124     13.979041     33.822857\n",
       "min       10.000000    136.000000     28.000000   1896.000000\n",
       "25%       22.000000    170.000000     64.000000   1952.000000\n",
       "50%       25.000000    177.480000     73.000000   1984.000000\n",
       "75%       29.000000    184.000000     82.000000   2002.000000\n",
       "max       73.000000    223.000000    182.000000   2016.000000"
      ]
     },
     "execution_count": 24,
     "metadata": {},
     "output_type": "execute_result"
    }
   ],
   "source": [
    "veri.describe()"
   ]
  },
  {
   "cell_type": "markdown",
   "id": "a27b9e26-df5d-4b96-8a75-01cd960239f2",
   "metadata": {},
   "source": [
    "Statistical attributes of the numerical data\n",
    "count: örnek sayısı\n",
    "mean: ortalama\n",
    "std: standart sapma\n",
    "min: minimum değer\n",
    "25%: birinci çeyrek\n",
    "50%: medyan\n",
    "75%: üçüncü çeyrek\n",
    "max: maximum değer"
   ]
  }
 ],
 "metadata": {
  "kernelspec": {
   "display_name": "Python 3 (ipykernel)",
   "language": "python",
   "name": "python3"
  },
  "language_info": {
   "codemirror_mode": {
    "name": "ipython",
    "version": 3
   },
   "file_extension": ".py",
   "mimetype": "text/x-python",
   "name": "python",
   "nbconvert_exporter": "python",
   "pygments_lexer": "ipython3",
   "version": "3.11.7"
  }
 },
 "nbformat": 4,
 "nbformat_minor": 5
}
